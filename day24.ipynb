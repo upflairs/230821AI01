{
 "cells": [
  {
   "cell_type": "code",
   "execution_count": 1,
   "metadata": {},
   "outputs": [],
   "source": [
    "import cv2"
   ]
  },
  {
   "cell_type": "code",
   "execution_count": 2,
   "metadata": {},
   "outputs": [
    {
     "name": "stdout",
     "output_type": "stream",
     "text": [
      "Requirement already satisfied: face_recognition in c:\\programdata\\anaconda3\\lib\\site-packages (1.3.0)\n",
      "Requirement already satisfied: Click>=6.0 in c:\\programdata\\anaconda3\\lib\\site-packages (from face_recognition) (7.0)\n",
      "Requirement already satisfied: dlib>=19.7 in c:\\programdata\\anaconda3\\lib\\site-packages (from face_recognition) (19.18.0)\n",
      "Requirement already satisfied: Pillow in c:\\programdata\\anaconda3\\lib\\site-packages (from face_recognition) (7.2.0)\n",
      "Requirement already satisfied: numpy in c:\\programdata\\anaconda3\\lib\\site-packages (from face_recognition) (1.21.2)\n",
      "Requirement already satisfied: face-recognition-models>=0.3.0 in c:\\programdata\\anaconda3\\lib\\site-packages (from face_recognition) (0.3.0)\n"
     ]
    },
    {
     "name": "stderr",
     "output_type": "stream",
     "text": [
      "WARNING: You are using pip version 21.2.4; however, version 21.3 is available.\n",
      "You should consider upgrading via the 'c:\\programdata\\anaconda3\\python.exe -m pip install --upgrade pip' command.\n"
     ]
    }
   ],
   "source": [
    "!pip install face_recognition"
   ]
  },
  {
   "cell_type": "raw",
   "metadata": {},
   "source": [
    "!pip install --upgrade pip --user"
   ]
  },
  {
   "cell_type": "code",
   "execution_count": 37,
   "metadata": {},
   "outputs": [
    {
     "name": "stdout",
     "output_type": "stream",
     "text": [
      "Requirement already satisfied: cmake in c:\\programdata\\anaconda3\\lib\\site-packages (3.18.4.post1)\n"
     ]
    }
   ],
   "source": [
    "!pip install cmake"
   ]
  },
  {
   "cell_type": "code",
   "execution_count": 36,
   "metadata": {},
   "outputs": [
    {
     "name": "stdout",
     "output_type": "stream",
     "text": [
      "Requirement already satisfied: dlib in c:\\programdata\\anaconda3\\lib\\site-packages (19.18.0)\n"
     ]
    }
   ],
   "source": [
    "!pip install dlib"
   ]
  },
  {
   "cell_type": "code",
   "execution_count": 5,
   "metadata": {},
   "outputs": [],
   "source": [
    "import face_recognition as fr"
   ]
  },
  {
   "cell_type": "code",
   "execution_count": 11,
   "metadata": {},
   "outputs": [],
   "source": [
    "img1 = cv2.imread('messi1.jpg')\n",
    "img2 = cv2.imread('messi2.jpg')\n",
    "img3 = cv2.imread('musk.jpg')\n",
    "img4 = cv2.imread('musk2.jpg')\n",
    "img5 = cv2.imread('virat.jpg')"
   ]
  },
  {
   "cell_type": "code",
   "execution_count": 7,
   "metadata": {},
   "outputs": [
    {
     "data": {
      "text/plain": [
       "-1"
      ]
     },
     "execution_count": 7,
     "metadata": {},
     "output_type": "execute_result"
    }
   ],
   "source": [
    "cv2.imshow('img',img1)\n",
    "cv2.waitKey(0)"
   ]
  },
  {
   "cell_type": "code",
   "execution_count": 8,
   "metadata": {},
   "outputs": [],
   "source": [
    "fd = cv2.CascadeClassifier(r'data/haarcascades/haarcascade_frontalface_default.xml')"
   ]
  },
  {
   "cell_type": "code",
   "execution_count": 14,
   "metadata": {},
   "outputs": [],
   "source": [
    "face1_box = fd.detectMultiScale(cv2.cvtColor(img1, cv2.COLOR_BGR2GRAY), 1.2, 4)[0]\n",
    "face2_box = fd.detectMultiScale(cv2.cvtColor(img2, cv2.COLOR_BGR2GRAY), 1.2, 4)[0]\n",
    "face3_box = fd.detectMultiScale(cv2.cvtColor(img3, cv2.COLOR_BGR2GRAY), 1.2, 4)[0]\n",
    "face4_box = fd.detectMultiScale(cv2.cvtColor(img4, cv2.COLOR_BGR2GRAY), 1.2, 4)[0]\n",
    "face5_box = fd.detectMultiScale(cv2.cvtColor(img5, cv2.COLOR_BGR2GRAY), 1.2, 4)[0]"
   ]
  },
  {
   "cell_type": "code",
   "execution_count": 16,
   "metadata": {},
   "outputs": [],
   "source": [
    "x1,y1,w1,h1 = face1_box\n",
    "x2,y2,w2,h2 = face2_box\n",
    "x3,y3,w3,h3 = face3_box\n",
    "x4,y4,w4,h4 = face4_box\n",
    "x5,y5,w5,h5 = face5_box"
   ]
  },
  {
   "cell_type": "code",
   "execution_count": 15,
   "metadata": {},
   "outputs": [
    {
     "data": {
      "text/plain": [
       "(array([319,  78, 135, 135], dtype=int32),\n",
       " array([697, 175, 260, 260], dtype=int32),\n",
       " array([131, 122, 199, 199], dtype=int32),\n",
       " array([591, 105, 579, 579], dtype=int32),\n",
       " array([44, 37, 98, 98], dtype=int32))"
      ]
     },
     "execution_count": 15,
     "metadata": {},
     "output_type": "execute_result"
    }
   ],
   "source": [
    "face1_box,face2_box,face3_box,face4_box,face5_box,"
   ]
  },
  {
   "cell_type": "code",
   "execution_count": 17,
   "metadata": {},
   "outputs": [],
   "source": [
    "face1 = img1[y1:y1+h1, x1:x1+w1, :]\n",
    "face2 = img2[y2:y2+h2, x2:x2+w2, :]\n",
    "face3 = img3[y3:y3+h3, x3:x3+w3, :]\n",
    "face4 = img4[y4:y4+h4, x4:x4+w4, :]\n",
    "face5 = img5[y5:y5+h5, x5:x5+w5, :]"
   ]
  },
  {
   "cell_type": "code",
   "execution_count": 22,
   "metadata": {},
   "outputs": [
    {
     "data": {
      "text/plain": [
       "-1"
      ]
     },
     "execution_count": 22,
     "metadata": {},
     "output_type": "execute_result"
    }
   ],
   "source": [
    "cv2.imshow('img',face5)\n",
    "cv2.waitKey(0)"
   ]
  },
  {
   "cell_type": "code",
   "execution_count": 32,
   "metadata": {},
   "outputs": [],
   "source": [
    "enc1 = fr.face_encodings(face1)[0]"
   ]
  },
  {
   "cell_type": "code",
   "execution_count": 26,
   "metadata": {
    "scrolled": true,
    "tags": []
   },
   "outputs": [
    {
     "data": {
      "text/plain": [
       "[array([-0.15742294,  0.12202217,  0.01045744, -0.02586288, -0.09703802,\n",
       "         0.09421193, -0.04649312, -0.04147991,  0.11048529, -0.00918316,\n",
       "         0.25581253, -0.04566761, -0.31829834, -0.03865812, -0.05136431,\n",
       "         0.10828836, -0.14092146, -0.03320543, -0.16396567, -0.14422888,\n",
       "        -0.06015634,  0.10521878,  0.02255964,  0.05077673, -0.13310656,\n",
       "        -0.28118351, -0.00853905, -0.21521112,  0.09172224, -0.12056857,\n",
       "        -0.04517926,  0.04340933, -0.11126393, -0.05863382,  0.00944525,\n",
       "        -0.00356321, -0.08061554, -0.10260335,  0.24153262, -0.07663982,\n",
       "        -0.05185621,  0.01578178,  0.15991268,  0.25729549,  0.14377521,\n",
       "         0.01096029,  0.04967818, -0.05941049,  0.16437572, -0.24453679,\n",
       "         0.07477333,  0.14049453,  0.165383  ,  0.13196714,  0.05639835,\n",
       "        -0.22803503, -0.01335444,  0.15006346, -0.21989554,  0.14742441,\n",
       "         0.05020916,  0.03655201, -0.10133108, -0.05787503,  0.23006177,\n",
       "         0.19723453, -0.12630974, -0.19159286,  0.13892706, -0.19391713,\n",
       "        -0.00850517,  0.1443935 , -0.13330175, -0.16891968, -0.16530979,\n",
       "         0.07669653,  0.2759974 ,  0.17514145, -0.13691336, -0.03406728,\n",
       "        -0.07781179, -0.07821146,  0.00239854,  0.00399227, -0.12524259,\n",
       "        -0.13257651, -0.03674005, -0.00703057,  0.22028205,  0.01926075,\n",
       "        -0.02066618,  0.22709773,  0.10266133, -0.07454759,  0.02194896,\n",
       "         0.03918132, -0.15746565, -0.08312552, -0.06949869,  0.02505263,\n",
       "        -0.00933332, -0.13904047,  0.01599554,  0.03145076, -0.13966946,\n",
       "         0.18347253, -0.02645754,  0.01985266,  0.02207903,  0.00067046,\n",
       "        -0.07319218,  0.00414797,  0.23703064, -0.22592483,  0.22045515,\n",
       "         0.06518461,  0.10629165,  0.14263131,  0.06818871,  0.11835435,\n",
       "        -0.00729054,  0.04719315, -0.14247344, -0.12896039,  0.06865752,\n",
       "        -0.10180565,  0.02846459,  0.03356582])]"
      ]
     },
     "execution_count": 26,
     "metadata": {},
     "output_type": "execute_result"
    }
   ],
   "source": [
    "enc1"
   ]
  },
  {
   "cell_type": "code",
   "execution_count": 33,
   "metadata": {},
   "outputs": [],
   "source": [
    "enc2 = fr.face_encodings(face2)[0]\n",
    "enc3 = fr.face_encodings(face3)[0]\n",
    "enc4 = fr.face_encodings(face4)[0]\n",
    "enc5 = fr.face_encodings(face5)[0]"
   ]
  },
  {
   "cell_type": "code",
   "execution_count": 34,
   "metadata": {},
   "outputs": [
    {
     "data": {
      "text/plain": [
       "[True, False, False, False]"
      ]
     },
     "execution_count": 34,
     "metadata": {},
     "output_type": "execute_result"
    }
   ],
   "source": [
    "fr.compare_faces([enc1,enc3,enc4,enc5], enc2)"
   ]
  },
  {
   "cell_type": "code",
   "execution_count": 40,
   "metadata": {},
   "outputs": [],
   "source": [
    "db = ['messi','messi','musk','virat']"
   ]
  },
  {
   "cell_type": "code",
   "execution_count": 42,
   "metadata": {},
   "outputs": [
    {
     "name": "stdout",
     "output_type": "stream",
     "text": [
      "musk\n"
     ]
    }
   ],
   "source": [
    "res = fr.compare_faces([enc1,enc2,enc4,enc5], enc3)\n",
    "result = db[res.index(True)]\n",
    "print(result)"
   ]
  },
  {
   "cell_type": "code",
   "execution_count": 41,
   "metadata": {},
   "outputs": [
    {
     "data": {
      "text/plain": [
       "'musk'"
      ]
     },
     "execution_count": 41,
     "metadata": {},
     "output_type": "execute_result"
    }
   ],
   "source": []
  },
  {
   "cell_type": "code",
   "execution_count": null,
   "metadata": {},
   "outputs": [],
   "source": []
  }
 ],
 "metadata": {
  "kernelspec": {
   "display_name": "Python 3",
   "language": "python",
   "name": "python3"
  },
  "language_info": {
   "codemirror_mode": {
    "name": "ipython",
    "version": 3
   },
   "file_extension": ".py",
   "mimetype": "text/x-python",
   "name": "python",
   "nbconvert_exporter": "python",
   "pygments_lexer": "ipython3",
   "version": "3.8.3"
  }
 },
 "nbformat": 4,
 "nbformat_minor": 4
}
